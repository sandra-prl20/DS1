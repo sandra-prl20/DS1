{
  "nbformat": 4,
  "nbformat_minor": 0,
  "metadata": {
    "colab": {
      "provenance": []
    },
    "kernelspec": {
      "name": "python3",
      "display_name": "Python 3"
    },
    "language_info": {
      "name": "python"
    }
  },
  "cells": [
    {
      "cell_type": "markdown",
      "source": [
        "Lab 2\n",
        "Q)Perform the Descriptive statistics for the given series of data\n",
        "60,69, 67, 77, 87, 97, 10, 50, 36, 49, 63, 76, 89, 76, 28, 41, 54, 68, 81, 94, 58, 31, 44,\n",
        "80,73,99,54,67,71,55,69,86,150,83,54,64,35,67"
      ],
      "metadata": {
        "id": "GeKOLNl_SKS0"
      }
    },
    {
      "cell_type": "code",
      "execution_count": null,
      "metadata": {
        "colab": {
          "base_uri": "https://localhost:8080/"
        },
        "id": "sO9LDn4ER2dn",
        "outputId": "54b7ba7b-01d7-43c7-8e3a-88d4669a5366"
      },
      "outputs": [
        {
          "output_type": "stream",
          "name": "stdout",
          "text": [
            "Requirement already satisfied: numpy in /usr/local/lib/python3.10/dist-packages (1.26.4)\n",
            "Requirement already satisfied: pandas in /usr/local/lib/python3.10/dist-packages (2.1.4)\n",
            "Requirement already satisfied: scipy in /usr/local/lib/python3.10/dist-packages (1.13.1)\n",
            "Requirement already satisfied: openpyxl in /usr/local/lib/python3.10/dist-packages (3.1.5)\n",
            "Requirement already satisfied: matplotlib in /usr/local/lib/python3.10/dist-packages (3.7.1)\n",
            "Requirement already satisfied: seaborn in /usr/local/lib/python3.10/dist-packages (0.13.1)\n",
            "Requirement already satisfied: python-dateutil>=2.8.2 in /usr/local/lib/python3.10/dist-packages (from pandas) (2.8.2)\n",
            "Requirement already satisfied: pytz>=2020.1 in /usr/local/lib/python3.10/dist-packages (from pandas) (2024.1)\n",
            "Requirement already satisfied: tzdata>=2022.1 in /usr/local/lib/python3.10/dist-packages (from pandas) (2024.1)\n",
            "Requirement already satisfied: et-xmlfile in /usr/local/lib/python3.10/dist-packages (from openpyxl) (1.1.0)\n",
            "Requirement already satisfied: contourpy>=1.0.1 in /usr/local/lib/python3.10/dist-packages (from matplotlib) (1.2.1)\n",
            "Requirement already satisfied: cycler>=0.10 in /usr/local/lib/python3.10/dist-packages (from matplotlib) (0.12.1)\n",
            "Requirement already satisfied: fonttools>=4.22.0 in /usr/local/lib/python3.10/dist-packages (from matplotlib) (4.53.1)\n",
            "Requirement already satisfied: kiwisolver>=1.0.1 in /usr/local/lib/python3.10/dist-packages (from matplotlib) (1.4.5)\n",
            "Requirement already satisfied: packaging>=20.0 in /usr/local/lib/python3.10/dist-packages (from matplotlib) (24.1)\n",
            "Requirement already satisfied: pillow>=6.2.0 in /usr/local/lib/python3.10/dist-packages (from matplotlib) (9.4.0)\n",
            "Requirement already satisfied: pyparsing>=2.3.1 in /usr/local/lib/python3.10/dist-packages (from matplotlib) (3.1.2)\n",
            "Requirement already satisfied: six>=1.5 in /usr/local/lib/python3.10/dist-packages (from python-dateutil>=2.8.2->pandas) (1.16.0)\n"
          ]
        }
      ],
      "source": [
        "!pip install numpy pandas scipy openpyxl matplotlib seaborn"
      ]
    },
    {
      "cell_type": "code",
      "source": [
        "#importing all the necessary libraries\n",
        "import numpy as np\n",
        "import pandas as pd\n",
        "import scipy as sc\n",
        "import matplotlib.pyplot as plt"
      ],
      "metadata": {
        "id": "EY4nLm-YSFng"
      },
      "execution_count": null,
      "outputs": []
    },
    {
      "cell_type": "code",
      "source": [
        "#array creation\n",
        "arr=np.array([60,69, 67, 77, 87, 97, 10, 50, 36, 49, 63, 76, 89, 76, 28, 41, 54, 68, 81, 94, 58, 31, 44, 80,73,99,54,67,71,55,69,86,150,83,54,64,35,67])\n",
        "print(arr)"
      ],
      "metadata": {
        "colab": {
          "base_uri": "https://localhost:8080/"
        },
        "id": "JPbHz6KoSVLW",
        "outputId": "903b52b1-731e-4260-d8d6-26f9b56b01cb"
      },
      "execution_count": null,
      "outputs": [
        {
          "output_type": "stream",
          "name": "stdout",
          "text": [
            "[ 60  69  67  77  87  97  10  50  36  49  63  76  89  76  28  41  54  68\n",
            "  81  94  58  31  44  80  73  99  54  67  71  55  69  86 150  83  54  64\n",
            "  35  67]\n"
          ]
        }
      ]
    },
    {
      "cell_type": "code",
      "source": [
        "arr_series = pd.Series(arr)\n",
        "print(arr_series)"
      ],
      "metadata": {
        "colab": {
          "base_uri": "https://localhost:8080/"
        },
        "id": "Pa_E8OANTCX_",
        "outputId": "0bec5491-1981-4c0d-dd4b-ee6c3e7a39f2"
      },
      "execution_count": null,
      "outputs": [
        {
          "output_type": "stream",
          "name": "stdout",
          "text": [
            "0      60\n",
            "1      69\n",
            "2      67\n",
            "3      77\n",
            "4      87\n",
            "5      97\n",
            "6      10\n",
            "7      50\n",
            "8      36\n",
            "9      49\n",
            "10     63\n",
            "11     76\n",
            "12     89\n",
            "13     76\n",
            "14     28\n",
            "15     41\n",
            "16     54\n",
            "17     68\n",
            "18     81\n",
            "19     94\n",
            "20     58\n",
            "21     31\n",
            "22     44\n",
            "23     80\n",
            "24     73\n",
            "25     99\n",
            "26     54\n",
            "27     67\n",
            "28     71\n",
            "29     55\n",
            "30     69\n",
            "31     86\n",
            "32    150\n",
            "33     83\n",
            "34     54\n",
            "35     64\n",
            "36     35\n",
            "37     67\n",
            "dtype: int64\n"
          ]
        }
      ]
    },
    {
      "cell_type": "code",
      "source": [
        "mean = arr_series.mean()\n",
        "median = arr_series.median()\n",
        "mode = arr_series.mode()\n",
        "variance = arr_series.var()\n",
        "std_dev = arr_series.std()\n",
        "minimum = arr_series.min()\n",
        "maximum = arr_series.max()\n",
        "range_val = maximum - minimum\n",
        "q1 = arr_series.quantile(0.25)\n",
        "\n",
        "q3 = arr_series.quantile(0.75)\n",
        "iqr = q3 - q1\n",
        "cv = (std_dev / mean) * 100  # Coefficient of Variation\n",
        "print(f\"Mean: {mean}\")\n",
        "print(f\"Median: {median}\")\n",
        "print(f\"Mode: {', '.join(map(str, mode.tolist()))}\")\n",
        "print(f\"Variance: {variance}\")\n",
        "print(f\"Standard Deviation: {std_dev}\")\n",
        "print(f\"Minimum: {minimum}\")\n",
        "print(f\"Maximum: {maximum}\")\n",
        "print(f\"Range: {range_val}\")\n",
        "print(f\"Q1 (First Quartile): {q1}\")\n",
        "print(f\"Q2 (Median): {median}\")\n",
        "print(f\"Q3 (Third Quartile): {q3}\")\n",
        "print(f\"IQR: {iqr}\")\n",
        "print(f\"Coefficient of Variation: {cv:.2f}%\")"
      ],
      "metadata": {
        "colab": {
          "base_uri": "https://localhost:8080/"
        },
        "id": "RIe3i1-TT763",
        "outputId": "95becd5b-7006-473d-db37-8ea391e01a4d"
      },
      "execution_count": null,
      "outputs": [
        {
          "output_type": "stream",
          "name": "stdout",
          "text": [
            "Mean: 66.10526315789474\n",
            "Median: 67.0\n",
            "Mode: 54, 67\n",
            "Variance: 604.7453769559032\n",
            "Standard Deviation: 24.591571258378412\n",
            "Minimum: 10\n",
            "Maximum: 150\n",
            "Range: 140\n",
            "Q1 (First Quartile): 54.0\n",
            "Q2 (Median): 67.0\n",
            "Q3 (Third Quartile): 79.25\n",
            "IQR: 25.25\n",
            "Coefficient of Variation: 37.20%\n"
          ]
        }
      ]
    }
  ]
}